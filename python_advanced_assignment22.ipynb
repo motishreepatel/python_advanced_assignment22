{
 "cells": [
  {
   "cell_type": "code",
   "execution_count": null,
   "metadata": {},
   "outputs": [],
   "source": [
    "#Q1 - What are the benefits of the built-in array package, if any?\n",
    "#Answer:\n",
    "Here are some advantages of using the array package:\n",
    "- Compact Memory Usage\n",
    "- Efficient Numeric Operations\n",
    "- Faster Access and Manipulation\n",
    "- Interoperability with C\n",
    "- Serialized I/O Operations\n",
    "- Type Enforcement"
   ]
  },
  {
   "cell_type": "code",
   "execution_count": null,
   "metadata": {},
   "outputs": [],
   "source": [
    "#Q2 - What are some of the array package's limitations?\n",
    "#Answer:\n",
    "Here are some of its limitations:\n",
    "- Fixed Size\n",
    "- Single Data Type\n",
    "- Limited Functionality\n",
    "- Lack of High-level Operations\n",
    "- Limited Flexibility"
   ]
  },
  {
   "cell_type": "code",
   "execution_count": null,
   "metadata": {},
   "outputs": [],
   "source": [
    "#Q3 - Describe the main differences between the array and numpy packages.\n",
    "#Answer:\n",
    "Here are few differences:\n",
    "- The numpy package is a powerful numerical computing library that provides a wide range of advanced functions and capabilities for working \n",
    "with multi-dimensional arrays, mathematical operations, linear algebra, random number generation, and more.\n",
    "\n",
    "On the other hand, the array package is a built-in Python module that provides a basic array data structure with limited functionality focused \n",
    "primarily on storage and retrieval of numeric data.\n",
    "\n",
    "- numpy arrays are more versatile and feature-rich than arrays created with the array package. numpy arrays support a wide range of operations, \n",
    "including advanced indexing, slicing, element-wise arithmetic operations, broadcasting, array reshaping, and aggregations. array objects, \n",
    "in comparison, have more limited functionality and lack many of the advanced array operations provided by numpy.\n",
    "\n",
    "- numpy is known for its optimized and efficient implementation of array operations. It utilizes low-level languages like C and Fortran, \n",
    "as well as optimized algorithms, which can provide significant performance improvements compared to using plain Python lists or \n",
    "the array package. numpy also has built-in support for vectorized operations, which allows for efficient element-wise computations on arrays.\n",
    "\n",
    "- numpy arrays allow for storing elements of different data types within the same array. This flexibility enables handling diverse data types \n",
    "in a single data structure. In contrast, array objects require all elements to have the same data type."
   ]
  },
  {
   "cell_type": "code",
   "execution_count": null,
   "metadata": {},
   "outputs": [],
   "source": [
    "#Q4 - Explain the distinctions between the empty, ones, and zeros functions.\n",
    "#Answer:\n",
    "1. numpy.empty(shape, dtype=float, order='C'):\n",
    "- This function creates a new array without initializing its elements to any specific values.\n",
    "- It takes the shape parameter, which specifies the dimensions (or shape) of the array as a tuple. For example, shape=(2, 3) creates a \n",
    "2-dimensional array with 2 rows and 3 columns.\n",
    "- The optional dtype parameter specifies the data type of the array elements. By default, it is set to float. You can specify other data types \n",
    "like int, bool, complex, etc.\n",
    "- The optional order parameter specifies the memory layout of the array. By default, it is set to 'C', which means row-major order. \n",
    "Alternatively, you can set it to 'F' for column-major order.\n",
    "\n",
    "\n",
    "2. numpy.ones(shape, dtype=None, order='C'):\n",
    "\n",
    "- This function creates a new array filled with ones.\n",
    "- It takes the shape parameter, which specifies the dimensions of the array as a tuple, similar to numpy.empty.\n",
    "- The optional dtype parameter specifies the data type of the array elements. If not provided, it defaults to float.\n",
    "- The optional order parameter specifies the memory layout of the array, similar to numpy.empty.\n",
    "\n",
    "3. numpy.zeros(shape, dtype=None, order='C'):\n",
    "\n",
    "- This function creates a new array filled with zeros.\n",
    "- It takes the shape parameter, specifying the dimensions of the array as a tuple, similar to numpy.empty.\n",
    "- The optional dtype parameter specifies the data type of the array elements. If not provided, it defaults to float.\n",
    "- The optional order parameter specifies the memory layout of the array, similar to numpy.empty"
   ]
  },
  {
   "cell_type": "code",
   "execution_count": null,
   "metadata": {},
   "outputs": [],
   "source": [
    "#Q5 - In the fromfunction function, which is used to construct new arrays, what is the role of the callable argument?\n",
    "#Answer:\n",
    "In the numpy.fromfunction function, the callable argument plays a crucial role in constructing new arrays based on a user-defined function. \n",
    "The callable is a function or a callable object that defines the values of the elements in the array being created.\n",
    "\n",
    "The callable function receives as input the indices of the array elements and returns the corresponding values. The indices are determined \n",
    "by the shape of the array being created. The function is called with a tuple of indices, where each element of the tuple represents \n",
    "the index along a specific dimension."
   ]
  },
  {
   "cell_type": "code",
   "execution_count": null,
   "metadata": {},
   "outputs": [],
   "source": [
    "#Q6 - What happens when a numpy array is combined with a single-value operand (a scalar, such as\n",
    "#an int or a floating-point value) through addition, as in the expression A + n?\n",
    "\n",
    "#Answer:\n",
    "When a NumPy array A is combined with a single-value operand (n) through addition (+), NumPy performs an element-wise addition operation \n",
    "between the array and the scalar value.\n",
    "\n",
    "The scalar value n is broadcasted to match the shape of the array A, and then the addition operation is performed element by element. \n",
    "Each element in the array A is added with the scalar value n, resulting in a new array with the same shape as A."
   ]
  },
  {
   "cell_type": "code",
   "execution_count": null,
   "metadata": {},
   "outputs": [],
   "source": [
    "#Q7 - Can array-to-scalar operations use combined operation-assign operators (such as += or *=)? What is the outcome?\n",
    "#Answer:\n",
    "No, array-to-scalar operations cannot use combined operation-assign operators like += or *=. These operators are designed for in-place \n",
    "modification of arrays, but when used with a scalar value, they would modify the array elements in an undefined manner.\n",
    "\n",
    "When the combined operation-assign operators are used with a scalar operand, they assume that the target variable is an array and perform \n",
    "the operation element-wise on the array. However, when used with a scalar value, there is no well-defined behavior for modifying individual \n",
    "elements of a scalar."
   ]
  },
  {
   "cell_type": "code",
   "execution_count": null,
   "metadata": {},
   "outputs": [],
   "source": [
    "#Q8 - Does a numpy array contain fixed-length strings? What happens if you allocate a longer string to one of these arrays?\n",
    "#Answer:\n",
    "Yes, a NumPy array can contain fixed-length strings. You can create a NumPy array with a specific data type, such as numpy.dtype('S10'), \n",
    "which represents fixed-length strings of length 10.\n",
    "\n",
    "If you allocate a longer string to an array with fixed-length strings, NumPy will truncate the string to fit the specified length. No error or \n",
    "warning will be raised. The string will be truncated from the right, removing any characters beyond the specified length."
   ]
  },
  {
   "cell_type": "code",
   "execution_count": 2,
   "metadata": {},
   "outputs": [
    {
     "name": "stdout",
     "output_type": "stream",
     "text": [
      "[5 7 9]\n",
      "[ 4 10 18]\n"
     ]
    }
   ],
   "source": [
    "#Q9 - What happens when you combine two numpy arrays using an operation like addition (+) or\n",
    "#multiplication (*)? What are the conditions for combining two numpy arrays?\n",
    "\n",
    "#Answer:\n",
    "'''When you combine two NumPy arrays using the addition (+) or multiplication (*) operators, NumPy performs element-wise operations between \n",
    "the corresponding elements of the arrays. The resulting array will have the same shape as the input arrays, and each element of the \n",
    "output array will be the result of the corresponding element-wise operation.\n",
    "\n",
    "To combine two NumPy arrays using the addition or multiplication operators, the following conditions must be satisfied:\n",
    "\n",
    "- The arrays must have the same shape. The shape refers to the dimensions of the arrays, such as the number of rows and columns for \n",
    "2-dimensional arrays.\n",
    "\n",
    "- The arrays must have compatible data types. NumPy arrays have a specified data type for their elements, such as int, float, or bool. \n",
    "The data types of the two arrays being combined must be compatible for the given operation.'''\n",
    "\n",
    "#exp:\n",
    "import numpy as np\n",
    "\n",
    "A = np.array([1, 2, 3])\n",
    "B = np.array([4, 5, 6])\n",
    "\n",
    "# Addition\n",
    "result_add = A + B\n",
    "print(result_add)\n",
    "\n",
    "# Multiplication\n",
    "result_mul = A * B\n",
    "print(result_mul)"
   ]
  },
  {
   "cell_type": "code",
   "execution_count": 5,
   "metadata": {},
   "outputs": [
    {
     "name": "stdout",
     "output_type": "stream",
     "text": [
      "[1 3 5]\n"
     ]
    }
   ],
   "source": [
    "#Q10: What is the best way to use a Boolean array to mask another array?\n",
    "#Answer:\n",
    "'''The best way to use a Boolean array to mask another array in NumPy is by using Boolean indexing. Boolean indexing allows you to select \n",
    "elements from an array based on a corresponding Boolean mask, where the mask determines which elements to include or exclude.'''\n",
    "\n",
    "#exp:\n",
    "import numpy as np\n",
    "\n",
    "# Original array\n",
    "arr = np.array([1, 2, 3, 4, 5])\n",
    "\n",
    "# Boolean mask\n",
    "mask = np.array([True, False, True, False, True])\n",
    "\n",
    "# Masking the original array\n",
    "masked_arr = arr[mask]\n",
    "\n",
    "print(masked_arr)\n",
    "\n"
   ]
  },
  {
   "cell_type": "code",
   "execution_count": null,
   "metadata": {},
   "outputs": [],
   "source": [
    "#Q11 - What are three different ways to get the standard deviation of a wide collection of data using\n",
    "#both standard Python and its packages? Sort the three of them by how quickly they execute.\n",
    "\n",
    "#Answer:\n",
    "Sorting the three different ways to calculate the standard deviation of a wide collection of data in Python based on their execution speed, \n",
    "from fastest to slowest:\n",
    "\n",
    "NumPy: Using the numpy package is typically the fastest approach for calculating the standard deviation of large collections of data. \n",
    "The numpy library provides the numpy.std() function, which can directly calculate the standard deviation of an array or list of values.\n",
    "\n",
    "Pandas: If your data is in a tabular format or DataFrame, using the pandas library can be an efficient way to calculate the standard deviation. \n",
    "The pandas library provides the DataFrame.std() method, which computes the standard deviation along each column or row of the DataFrame.\n",
    "\n",
    "Standard Python: Using standard Python without any additional packages, you can calculate the standard deviation using mathematical formulas. \n",
    "However, this approach is typically slower compared to using specialized libraries like NumPy or pandas, especially for large datasets."
   ]
  },
  {
   "cell_type": "code",
   "execution_count": 9,
   "metadata": {},
   "outputs": [],
   "source": [
    "#Q12 - What is the dimensionality of a Boolean mask-generated array?\n",
    "#Answer:\n",
    "'''The dimensionality of a Boolean mask-generated array depends on the shape of the Boolean mask itself.\n",
    "\n",
    "When you use a Boolean mask to index an array, the resulting array will have the same number of dimensions as the Boolean mask. \n",
    "The shape of the resulting array will be determined by the True values in the mask.'''\n",
    "\n",
    "#Exp:\n",
    "import numpy as np\n",
    "\n",
    "arr = np.array([[1, 2, 3],\n",
    "                [4, 5, 6],\n",
    "                [7, 8, 9]])\n",
    "\n",
    "mask = np.array([[True, False, True],\n",
    "                 [False, True, False],\n",
    "                 [True, False, True]])\n"
   ]
  },
  {
   "cell_type": "code",
   "execution_count": null,
   "metadata": {},
   "outputs": [],
   "source": []
  }
 ],
 "metadata": {
  "kernelspec": {
   "display_name": "Python 3.9.6 64-bit",
   "language": "python",
   "name": "python3"
  },
  "language_info": {
   "codemirror_mode": {
    "name": "ipython",
    "version": 3
   },
   "file_extension": ".py",
   "mimetype": "text/x-python",
   "name": "python",
   "nbconvert_exporter": "python",
   "pygments_lexer": "ipython3",
   "version": "3.9.6"
  },
  "orig_nbformat": 4,
  "vscode": {
   "interpreter": {
    "hash": "31f2aee4e71d21fbe5cf8b01ff0e069b9275f58929596ceb00d14d90e3e16cd6"
   }
  }
 },
 "nbformat": 4,
 "nbformat_minor": 2
}
